{
 "cells": [
  {
   "cell_type": "code",
   "execution_count": null,
   "id": "4bedc519-c2f4-4c63-8b11-e339a019c212",
   "metadata": {},
   "outputs": [],
   "source": [
    "pip uninstall numpy pandas -y"
   ]
  },
  {
   "cell_type": "code",
   "execution_count": null,
   "id": "ab5bab94-d2d3-4699-9034-e30fba52822d",
   "metadata": {},
   "outputs": [],
   "source": [
    "pip install numpy pandas --upgrade"
   ]
  },
  {
   "cell_type": "code",
   "execution_count": null,
   "id": "9ba26a9e-e771-4fd3-939f-415e67127682",
   "metadata": {},
   "outputs": [],
   "source": [
    "pip install numpy==1.26.4 pandas==2.2.2"
   ]
  },
  {
   "cell_type": "code",
   "execution_count": null,
   "id": "be43d47b-d418-464d-a55e-d05a90293c95",
   "metadata": {},
   "outputs": [],
   "source": [
    "# Step 1: Import libraries\n",
    "import numpy as np\n",
    "import pandas as pd\n",
    "from sklearn.model_selection import train_test_split\n",
    "from sklearn.ensemble import RandomForestClassifier\n",
    "from sklearn.metrics import classification_report, confusion_matrix, accuracy_score\n",
    "import matplotlib.pyplot as plt\n",
    "import seaborn as sns\n"
   ]
  },
  {
   "cell_type": "code",
   "execution_count": null,
   "id": "66f6bb5a-fc64-4d95-b302-038190e19189",
   "metadata": {},
   "outputs": [],
   "source": [
    "# Step 2: Generate synthetic customer data\n",
    "np.random.seed(42)\n",
    "n_samples = 1000\n",
    "\n",
    "data = pd.DataFrame({\n",
    "    'tenure_months': np.random.randint(1, 60, n_samples),\n",
    "    'monthly_spend': np.random.uniform(20, 200, n_samples),\n",
    "    'support_calls': np.random.poisson(2, n_samples),\n",
    "    'is_active_user': np.random.choice([0, 1], n_samples, p=[0.3, 0.7]),\n",
    "    'used_discount': np.random.choice([0, 1], n_samples, p=[0.6, 0.4]),\n",
    "    'contract_type': np.random.choice(['month-to-month', 'one-year', 'two-year'], n_samples),\n",
    "    'churned': np.random.choice([0, 1], n_samples, p=[0.75, 0.25])\n",
    "})"
   ]
  },
  {
   "cell_type": "code",
   "execution_count": null,
   "id": "513f98a3",
   "metadata": {},
   "outputs": [],
   "source": [
    "# Step 3: Encode categorical variables\n",
    "data = pd.get_dummies(data, columns=['contract_type'], drop_first=True)\n"
   ]
  },
  {
   "cell_type": "code",
   "execution_count": null,
   "id": "6ac19c44-f8c7-412b-b141-27ba5e764a82",
   "metadata": {},
   "outputs": [],
   "source": [
    "# Step 4: Define features and target\n",
    "X = data.drop('churned', axis=1)\n",
    "y = data['churned']\n",
    "\n",
    "# Step 5: Split data into train and test sets\n",
    "X_train, X_test, y_train, y_test = train_test_split(X, y, test_size=0.3, random_state=42)\n",
    "\n",
    "# Step 6: Train a Random Forest model\n",
    "model = RandomForestClassifier(n_estimators=100, random_state=42)\n",
    "model.fit(X_train, y_train)\n",
    "\n",
    "# Step 7: Predict and evaluate\n",
    "y_pred = model.predict(X_test)"
   ]
  },
  {
   "cell_type": "code",
   "execution_count": null,
   "id": "75c8d5e3-670b-407c-b089-2024e76ba318",
   "metadata": {},
   "outputs": [],
   "source": [
    "print(\"Accuracy:\", accuracy_score(y_test, y_pred))\n",
    "print(\"\\nClassification Report:\\n\", classification_report(y_test, y_pred))\n",
    "\n",
    "# Confusion Matrix\n",
    "cm = confusion_matrix(y_test, y_pred)\n",
    "sns.heatmap(cm, annot=True, fmt='d', cmap='Blues', xticklabels=['Stayed', 'Churned'], yticklabels=['Stayed', 'Churned'])\n",
    "plt.xlabel('Predicted')\n",
    "plt.ylabel('Actual')\n",
    "plt.title('Confusion Matrix')\n",
    "plt.show()\n",
    "\n",
    "# Step 8: Feature Importance Plot\n",
    "importances = pd.Series(model.feature_importances_, index=X.columns)\n",
    "importances.sort_values().plot(kind='barh', title='Feature Importance')\n",
    "plt.tight_layout()\n",
    "plt.show()"
   ]
  },
  {
   "cell_type": "code",
   "execution_count": null,
   "id": "dfcd774d-5bd3-40af-ba45-975dced1cd35",
   "metadata": {},
   "outputs": [],
   "source": []
  }
 ],
 "metadata": {
  "kernelspec": {
   "display_name": "Python 3 (ipykernel)",
   "language": "python",
   "name": "python3"
  },
  "language_info": {
   "codemirror_mode": {
    "name": "ipython",
    "version": 3
   },
   "file_extension": ".py",
   "mimetype": "text/x-python",
   "name": "python",
   "nbconvert_exporter": "python",
   "pygments_lexer": "ipython3",
   "version": "3.9.20"
  }
 },
 "nbformat": 4,
 "nbformat_minor": 5
}
